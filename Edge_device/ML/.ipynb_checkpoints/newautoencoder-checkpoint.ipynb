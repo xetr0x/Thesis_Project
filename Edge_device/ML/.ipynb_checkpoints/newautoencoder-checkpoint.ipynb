{
 "cells": [
  {
   "cell_type": "code",
   "execution_count": 32,
   "id": "696951e4-7169-4961-ae99-3f6acfc60443",
   "metadata": {},
   "outputs": [],
   "source": [
    "import numpy as np\n",
    "import pandas as pd\n",
    "import pickle as pckl\n",
    "import torch as torch\n",
    "from torch import nn as nn\n",
    "from torch import optim as opt\n",
    "from torch.utils.data import DataLoader, TensorDataset\n",
    "import matplotlib.pyplot as plt\n",
    "from matplotlib.colors import LinearSegmentedColormap\n",
    "import sklearn\n",
    "from sklearn.preprocessing import StandardScaler\n",
    "from sklearn.model_selection import train_test_split\n",
    "import joblib"
   ]
  },
  {
   "cell_type": "code",
   "execution_count": 2,
   "id": "6d06b327-1431-42ba-be96-27081a1f296d",
   "metadata": {},
   "outputs": [],
   "source": [
    "torch.manual_seed(42)\n",
    "np.random.seed(42)"
   ]
  },
  {
   "cell_type": "code",
   "execution_count": 3,
   "id": "8efd0af2-384e-4fe1-a9aa-9de9b06f10f5",
   "metadata": {},
   "outputs": [],
   "source": [
    "df = pd.read_csv('data_fixed.csv', delimiter = ';')\n",
    "df['Timestamp'] = pd.to_datetime(df['Timestamp']) "
   ]
  },
  {
   "cell_type": "code",
   "execution_count": 4,
   "id": "0c537e15-26be-42a9-b5e9-6c4244e1d1f2",
   "metadata": {},
   "outputs": [],
   "source": [
    "class autoencoder(nn.Module):\n",
    "    def __init__(self, input_shape, encoding_dim):\n",
    "        super(autoencoder, self).__init__()\n",
    "\n",
    "        self.encode = nn.Sequential(\n",
    "            nn.Linear(input_shape, 128),\n",
    "            nn.LeakyReLU(0.1),\n",
    "            nn.Linear(128, 64),\n",
    "            nn.LeakyReLU(0.1),\n",
    "            nn.Linear(64, encoding_dim),\n",
    "            )\n",
    "\n",
    "        self.decode = nn.Sequential(\n",
    "            nn.Linear(encoding_dim, 64),\n",
    "            nn.LeakyReLU(0.1),\n",
    "            nn.Linear(64, 128),\n",
    "            nn.LeakyReLU(0.1),\n",
    "            nn.Linear(128, input_shape)\n",
    "            )\n",
    "\n",
    "    def forward(self, x):\n",
    "        x = self.encode(x)\n",
    "        x = self.decode(x)\n",
    "        return x"
   ]
  },
  {
   "cell_type": "code",
   "execution_count": 5,
   "id": "2de93c19-c416-40f3-936e-e72d7de8b96b",
   "metadata": {},
   "outputs": [],
   "source": [
    "def fix_timeseries(df):\n",
    "    df_new = df.copy()\n",
    "\n",
    "    df_new['hour'] = df['Timestamp'].dt.hour\n",
    "    df_new['minute'] = df['Timestamp'].dt.minute\n",
    "    df_new['second'] = df['Timestamp'].dt.second\n",
    "\n",
    "    df_new['sin_h'] = np.sin(2* np.pi * df_new['hour']/24)\n",
    "    df_new['cos_h'] = np.cos(2* np.pi * df_new['hour']/24)\n",
    "    df_new['sin_m'] = np.sin(2* np.pi * df_new['minute']/60)\n",
    "    df_new['cos_m'] = np.cos(2* np.pi * df_new['minute']/60)\n",
    "    df_new['sin_s'] = np.sin(2* np.pi * df_new['second']/60)\n",
    "    df_new['cos_s'] = np.cos(2* np.pi * df_new['second']/60)\n",
    "    print(df_new)\n",
    "    return df_new"
   ]
  },
  {
   "cell_type": "code",
   "execution_count": 6,
   "id": "1d3c277c-dcb6-4738-ade8-8976a9281894",
   "metadata": {},
   "outputs": [],
   "source": [
    "def prep_data(df, batch_size = 50):\n",
    "    df_copy = df.copy()\n",
    "\n",
    "    df_with_time = fix_timeseries(df_copy)\n",
    "    timestamps = df_with_time['Timestamp'].values\n",
    "    \n",
    "    numeric_df = df_with_time.copy()\n",
    "    for col in df.columns:\n",
    "        max_value = numeric_df[col][numeric_df[col] != np.inf].max()\n",
    "        numeric_df[col].replace([np.inf, -np.inf], max_value, inplace=True)\n",
    "    numeric_df.fillna(numeric_df.mean(numeric_only=True), inplace=True)\n",
    "    numeric_df = numeric_df.drop('Timestamp', axis = 1)\n",
    "    \n",
    "    feature_names = numeric_df.columns.tolist()\n",
    "    scaler = StandardScaler()\n",
    "    data_scaled = scaler.fit_transform(numeric_df)\n",
    "    test_ratio = 0.2\n",
    "    train_size = int((1 - test_ratio) * len(data_scaled))\n",
    "    X_train = data_scaled[:train_size]\n",
    "    X_test = data_scaled[train_size:]\n",
    "    device = torch.device(\"cuda\" if torch.cuda.is_available() else \"cpu\")\n",
    "    \n",
    "    X_train_tensor = torch.FloatTensor(X_train).to(device)\n",
    "    X_test_tensor = torch.FloatTensor(X_test).to(device)\n",
    "\n",
    "    train_dataset = TensorDataset(X_train_tensor, X_train_tensor)\n",
    "    test_dataset = TensorDataset(X_test_tensor, X_test_tensor)\n",
    "    \n",
    "    train_loader = DataLoader(train_dataset, batch_size = batch_size)\n",
    "    test_loader = DataLoader(test_dataset, batch_size = batch_size)\n",
    "\n",
    "    return train_loader, timestamps,feature_names,test_loader"
   ]
  },
  {
   "cell_type": "code",
   "execution_count": 9,
   "id": "78cd0ec9-db79-46d3-b7af-31450587e960",
   "metadata": {
    "scrolled": true
   },
   "outputs": [],
   "source": [
    "input_dim = 15\n",
    "batch_size = 50\n",
    "epoch = 100\n",
    "encoding_dim = 2"
   ]
  },
  {
   "cell_type": "code",
   "execution_count": 10,
   "id": "6d9fb37d-4640-4ef6-8987-330b9a3e3156",
   "metadata": {
    "scrolled": true
   },
   "outputs": [
    {
     "name": "stdout",
     "output_type": "stream",
     "text": [
      "                Timestamp  Temperature (°C)  Humidity (%)  Raw VOC  IR Light  \\\n",
      "0     2025-03-14 19:41:00             23.11         32.73       83       216   \n",
      "1     2025-03-14 19:41:00             23.11         32.69       84       222   \n",
      "2     2025-03-14 19:41:00             23.11         32.67       84       259   \n",
      "3     2025-03-14 19:41:00             23.10         32.67       84       234   \n",
      "4     2025-03-14 19:41:00             23.11         32.64       84       231   \n",
      "...                   ...               ...           ...      ...       ...   \n",
      "41738 2025-03-21 14:21:00             25.25         25.51      390     15847   \n",
      "41739 2025-03-21 14:21:00             25.29         25.51      390     15467   \n",
      "41740 2025-03-21 14:21:00             25.29         25.58      390     12129   \n",
      "41741 2025-03-21 14:21:00             25.29         25.75      390     13109   \n",
      "41742 2025-03-21 14:21:00             25.32         25.86      390      9780   \n",
      "\n",
      "       Visible Light  CO2 (ppm)  hour  minute  second     sin_h     cos_h  \\\n",
      "0                699     1054.4    19      41       0 -0.965926  0.258819   \n",
      "1                714     1052.6    19      41       0 -0.965926  0.258819   \n",
      "2                782     1051.6    19      41       0 -0.965926  0.258819   \n",
      "3                739     1050.7    19      41       0 -0.965926  0.258819   \n",
      "4                733     1049.9    19      41       0 -0.965926  0.258819   \n",
      "...              ...        ...   ...     ...     ...       ...       ...   \n",
      "41738          22864      602.9    14      21       0 -0.500000 -0.866025   \n",
      "41739          22215      602.7    14      21       0 -0.500000 -0.866025   \n",
      "41740          16309      603.1    14      21       0 -0.500000 -0.866025   \n",
      "41741          17907      608.2    14      21       0 -0.500000 -0.866025   \n",
      "41742          12570      645.0    14      21       0 -0.500000 -0.866025   \n",
      "\n",
      "          sin_m     cos_m  sin_s  cos_s  \n",
      "0     -0.913545 -0.406737    0.0    1.0  \n",
      "1     -0.913545 -0.406737    0.0    1.0  \n",
      "2     -0.913545 -0.406737    0.0    1.0  \n",
      "3     -0.913545 -0.406737    0.0    1.0  \n",
      "4     -0.913545 -0.406737    0.0    1.0  \n",
      "...         ...       ...    ...    ...  \n",
      "41738  0.809017 -0.587785    0.0    1.0  \n",
      "41739  0.809017 -0.587785    0.0    1.0  \n",
      "41740  0.809017 -0.587785    0.0    1.0  \n",
      "41741  0.809017 -0.587785    0.0    1.0  \n",
      "41742  0.809017 -0.587785    0.0    1.0  \n",
      "\n",
      "[41743 rows x 16 columns]\n"
     ]
    },
    {
     "name": "stderr",
     "output_type": "stream",
     "text": [
      "C:\\Users\\gamer\\AppData\\Local\\Temp\\ipykernel_25024\\406089598.py:10: FutureWarning: A value is trying to be set on a copy of a DataFrame or Series through chained assignment using an inplace method.\n",
      "The behavior will change in pandas 3.0. This inplace method will never work because the intermediate object on which we are setting values always behaves as a copy.\n",
      "\n",
      "For example, when doing 'df[col].method(value, inplace=True)', try using 'df.method({col: value}, inplace=True)' or df[col] = df[col].method(value) instead, to perform the operation inplace on the original object.\n",
      "\n",
      "\n",
      "  numeric_df[col].replace([np.inf, -np.inf], max_value, inplace=True)\n"
     ]
    }
   ],
   "source": [
    "train_loader, timestamps,feature_names,test_loader= prep_data(df, batch_size)"
   ]
  },
  {
   "cell_type": "code",
   "execution_count": 11,
   "id": "fc6433ee-eae1-4b0e-85d9-b8844c04cad8",
   "metadata": {},
   "outputs": [],
   "source": [
    "model = autoencoder(input_dim, encoding_dim)"
   ]
  },
  {
   "cell_type": "code",
   "execution_count": 12,
   "id": "9264318e-7384-4d1d-b56d-5318bb261f41",
   "metadata": {},
   "outputs": [],
   "source": [
    "device = torch.device(\"cuda\" if torch.cuda.is_available() else \"cpu\")\n",
    "model = model.to(device)\n",
    "criterion = nn.MSELoss()\n",
    "optimizer = torch.optim.Adam(model.parameters(), lr=0.001)\n"
   ]
  },
  {
   "cell_type": "code",
   "execution_count": 13,
   "id": "c22fc9a9-8fe3-4f86-a67a-41577c7e8b2b",
   "metadata": {},
   "outputs": [
    {
     "name": "stdout",
     "output_type": "stream",
     "text": [
      "Epoch 1/50, Loss: 0.389727, Batches: 668\n",
      "Epoch 2/50, Loss: 0.413500, Batches: 668\n",
      "Epoch 3/50, Loss: 0.401040, Batches: 668\n",
      "Epoch 4/50, Loss: 0.374436, Batches: 668\n",
      "Epoch 5/50, Loss: 0.365186, Batches: 668\n",
      "Epoch 6/50, Loss: 0.356173, Batches: 668\n",
      "Epoch 7/50, Loss: 0.348795, Batches: 668\n",
      "Epoch 8/50, Loss: 0.326799, Batches: 668\n",
      "Epoch 9/50, Loss: 0.322164, Batches: 668\n",
      "Epoch 10/50, Loss: 0.312373, Batches: 668\n",
      "Epoch 11/50, Loss: 0.310723, Batches: 668\n",
      "Epoch 12/50, Loss: 0.298795, Batches: 668\n",
      "Epoch 13/50, Loss: 0.286429, Batches: 668\n",
      "Epoch 14/50, Loss: 0.282153, Batches: 668\n",
      "Epoch 15/50, Loss: 0.274675, Batches: 668\n",
      "Epoch 16/50, Loss: 0.277014, Batches: 668\n",
      "Epoch 17/50, Loss: 0.260454, Batches: 668\n",
      "Epoch 18/50, Loss: 0.252191, Batches: 668\n",
      "Epoch 19/50, Loss: 0.242800, Batches: 668\n",
      "Epoch 20/50, Loss: 0.235695, Batches: 668\n",
      "Epoch 21/50, Loss: 0.222951, Batches: 668\n",
      "Epoch 22/50, Loss: 0.223785, Batches: 668\n",
      "Epoch 23/50, Loss: 0.226837, Batches: 668\n",
      "Epoch 24/50, Loss: 0.227319, Batches: 668\n",
      "Epoch 25/50, Loss: 0.221594, Batches: 668\n",
      "Epoch 26/50, Loss: 0.219833, Batches: 668\n",
      "Epoch 27/50, Loss: 0.219467, Batches: 668\n",
      "Epoch 28/50, Loss: 0.206610, Batches: 668\n",
      "Epoch 29/50, Loss: 0.204581, Batches: 668\n",
      "Epoch 30/50, Loss: 0.200026, Batches: 668\n",
      "Epoch 31/50, Loss: 0.197828, Batches: 668\n",
      "Epoch 32/50, Loss: 0.204166, Batches: 668\n",
      "Epoch 33/50, Loss: 0.203891, Batches: 668\n",
      "Epoch 34/50, Loss: 0.202227, Batches: 668\n",
      "Epoch 35/50, Loss: 0.194365, Batches: 668\n",
      "Epoch 36/50, Loss: 0.192004, Batches: 668\n",
      "Epoch 37/50, Loss: 0.189914, Batches: 668\n",
      "Epoch 38/50, Loss: 0.187040, Batches: 668\n",
      "Epoch 39/50, Loss: 0.193852, Batches: 668\n",
      "Epoch 40/50, Loss: 0.198274, Batches: 668\n",
      "Epoch 41/50, Loss: 0.189461, Batches: 668\n",
      "Epoch 42/50, Loss: 0.198700, Batches: 668\n",
      "Epoch 43/50, Loss: 0.188823, Batches: 668\n",
      "Epoch 44/50, Loss: 0.197607, Batches: 668\n",
      "Epoch 45/50, Loss: 0.191588, Batches: 668\n",
      "Epoch 46/50, Loss: 0.190675, Batches: 668\n",
      "Epoch 47/50, Loss: 0.182169, Batches: 668\n",
      "Epoch 48/50, Loss: 0.205799, Batches: 668\n",
      "Epoch 49/50, Loss: 0.197396, Batches: 668\n",
      "Epoch 50/50, Loss: 0.182742, Batches: 668\n"
     ]
    }
   ],
   "source": [
    "for epoch in range(50):\n",
    "    running_loss = 0.0\n",
    "    batch_count = 0\n",
    "    \n",
    "    model.train()\n",
    "    \n",
    "    data_iterator = iter(train_loader)\n",
    "    has_batches = False\n",
    "    \n",
    "    while True:\n",
    "        try:\n",
    "            data = next(data_iterator)\n",
    "            has_batches = True\n",
    "            inputs, _ = data\n",
    "            inputs = inputs.to(device)\n",
    "            optimizer.zero_grad()\n",
    "            outputs = model(inputs)\n",
    "            loss = criterion(outputs, inputs)\n",
    "            loss.backward()\n",
    "            optimizer.step()\n",
    "            running_loss += loss.item()\n",
    "            batch_count += 1\n",
    "        except StopIteration:\n",
    "            break\n",
    "        except Exception as e:\n",
    "            print(f\"Error processing batch: {str(e)}\")\n",
    "            break\n",
    "    \n",
    "    if not has_batches:\n",
    "        print(f\"Epoch {epoch+1}/50: No data was processed! DataLoader is empty.\")\n",
    "        break\n",
    "    \n",
    "    if batch_count > 0:\n",
    "        epoch_loss = running_loss / batch_count\n",
    "        print(f\"Epoch {epoch+1}/50, Loss: {epoch_loss:.6f}, Batches: {batch_count}\")\n",
    "    else:\n",
    "        print(f\"Epoch {epoch+1}/50: Processed 0 batches.\")\n",
    "        break"
   ]
  },
  {
   "cell_type": "code",
   "execution_count": 34,
   "id": "3494a4a8-62f1-45c5-9123-70acf3927b07",
   "metadata": {},
   "outputs": [
    {
     "data": {
      "text/plain": [
       "['autoe_model.sav']"
      ]
     },
     "execution_count": 34,
     "metadata": {},
     "output_type": "execute_result"
    }
   ],
   "source": [
    "filename = 'autoe_model.sav'\n",
    "joblib.dump(model, filename)"
   ]
  },
  {
   "cell_type": "code",
   "execution_count": null,
   "id": "030cf2f9-b16c-44ea-b192-755521223705",
   "metadata": {},
   "outputs": [],
   "source": []
  }
 ],
 "metadata": {
  "kernelspec": {
   "display_name": "Python [conda env:base] *",
   "language": "python",
   "name": "conda-base-py"
  },
  "language_info": {
   "codemirror_mode": {
    "name": "ipython",
    "version": 3
   },
   "file_extension": ".py",
   "mimetype": "text/x-python",
   "name": "python",
   "nbconvert_exporter": "python",
   "pygments_lexer": "ipython3",
   "version": "3.12.7"
  }
 },
 "nbformat": 4,
 "nbformat_minor": 5
}
